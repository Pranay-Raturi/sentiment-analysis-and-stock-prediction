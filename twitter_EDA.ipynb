{
 "cells": [
  {
   "cell_type": "code",
   "execution_count": 20,
   "metadata": {},
   "outputs": [],
   "source": [
    "import pandas as pd\n",
    "from datetime import date\n",
    "import os\n",
    "# Library to handle emojis in tweets\n",
    "import demoji\n",
    "# Library to use regular expressions\n",
    "import re\n",
    "import string\n",
    "# Python library to handle natural language\n",
    "from nltk.corpus import stopwords,wordnet\n",
    "from nltk.stem import WordNetLemmatizer\n",
    "from nltk.tokenize import TweetTokenizer\n",
    "from nltk import pos_tag\n",
    "import nltk"
   ]
  },
  {
   "cell_type": "code",
   "execution_count": 27,
   "metadata": {},
   "outputs": [
    {
     "name": "stderr",
     "output_type": "stream",
     "text": [
      "[nltk_data] Downloading package wordnet to\n",
      "[nltk_data]     C:\\Users\\Pranay\\AppData\\Roaming\\nltk_data...\n"
     ]
    },
    {
     "data": {
      "text/plain": [
       "True"
      ]
     },
     "execution_count": 27,
     "metadata": {},
     "output_type": "execute_result"
    }
   ],
   "source": [
    "nltk.download('wordnet')"
   ]
  },
  {
   "cell_type": "code",
   "execution_count": 6,
   "metadata": {},
   "outputs": [
    {
     "data": {
      "text/html": [
       "<div>\n",
       "<style scoped>\n",
       "    .dataframe tbody tr th:only-of-type {\n",
       "        vertical-align: middle;\n",
       "    }\n",
       "\n",
       "    .dataframe tbody tr th {\n",
       "        vertical-align: top;\n",
       "    }\n",
       "\n",
       "    .dataframe thead th {\n",
       "        text-align: right;\n",
       "    }\n",
       "</style>\n",
       "<table border=\"1\" class=\"dataframe\">\n",
       "  <thead>\n",
       "    <tr style=\"text-align: right;\">\n",
       "      <th></th>\n",
       "      <th>Tweet_ID</th>\n",
       "      <th>Time_Created</th>\n",
       "      <th>Text</th>\n",
       "      <th>Likes</th>\n",
       "      <th>Retweets</th>\n",
       "      <th>Location</th>\n",
       "    </tr>\n",
       "  </thead>\n",
       "  <tbody>\n",
       "    <tr>\n",
       "      <th>0</th>\n",
       "      <td>1744146496243822931</td>\n",
       "      <td>2024-01-07 23:58:24+00:00</td>\n",
       "      <td>@SelfMadeMastery Best: $NVDA, $CRWD, $META, $T...</td>\n",
       "      <td>1</td>\n",
       "      <td>0</td>\n",
       "      <td>NaN</td>\n",
       "    </tr>\n",
       "    <tr>\n",
       "      <th>1</th>\n",
       "      <td>1744146280576926128</td>\n",
       "      <td>2024-01-07 23:57:32+00:00</td>\n",
       "      <td>Most Notable #Earnings Week of JAN 8th\\n\\n◦ Mo...</td>\n",
       "      <td>0</td>\n",
       "      <td>0</td>\n",
       "      <td>NaN</td>\n",
       "    </tr>\n",
       "    <tr>\n",
       "      <th>2</th>\n",
       "      <td>1744145386850422822</td>\n",
       "      <td>2024-01-07 23:53:59+00:00</td>\n",
       "      <td>🇺🇸 U.S. ECONOMIC DATA 2ND WEEK\\n\\nTHURS.\\n◦ U....</td>\n",
       "      <td>0</td>\n",
       "      <td>0</td>\n",
       "      <td>NaN</td>\n",
       "    </tr>\n",
       "    <tr>\n",
       "      <th>3</th>\n",
       "      <td>1744145096592007411</td>\n",
       "      <td>2024-01-07 23:52:50+00:00</td>\n",
       "      <td>$MARA We nailed this play. I kept on hammering...</td>\n",
       "      <td>3</td>\n",
       "      <td>0</td>\n",
       "      <td>Plan the Trade, Trade the Plan</td>\n",
       "    </tr>\n",
       "    <tr>\n",
       "      <th>4</th>\n",
       "      <td>1743200305033175350</td>\n",
       "      <td>2024-01-05 09:18:34+00:00</td>\n",
       "      <td>$MARA Scaled out of this position yesterday\\n\\...</td>\n",
       "      <td>1</td>\n",
       "      <td>0</td>\n",
       "      <td>Plan the Trade, Trade the Plan</td>\n",
       "    </tr>\n",
       "  </tbody>\n",
       "</table>\n",
       "</div>"
      ],
      "text/plain": [
       "              Tweet_ID               Time_Created  \\\n",
       "0  1744146496243822931  2024-01-07 23:58:24+00:00   \n",
       "1  1744146280576926128  2024-01-07 23:57:32+00:00   \n",
       "2  1744145386850422822  2024-01-07 23:53:59+00:00   \n",
       "3  1744145096592007411  2024-01-07 23:52:50+00:00   \n",
       "4  1743200305033175350  2024-01-05 09:18:34+00:00   \n",
       "\n",
       "                                                Text  Likes  Retweets  \\\n",
       "0  @SelfMadeMastery Best: $NVDA, $CRWD, $META, $T...      1         0   \n",
       "1  Most Notable #Earnings Week of JAN 8th\\n\\n◦ Mo...      0         0   \n",
       "2  🇺🇸 U.S. ECONOMIC DATA 2ND WEEK\\n\\nTHURS.\\n◦ U....      0         0   \n",
       "3  $MARA We nailed this play. I kept on hammering...      3         0   \n",
       "4  $MARA Scaled out of this position yesterday\\n\\...      1         0   \n",
       "\n",
       "                         Location  \n",
       "0                             NaN  \n",
       "1                             NaN  \n",
       "2                             NaN  \n",
       "3  Plan the Trade, Trade the Plan  \n",
       "4  Plan the Trade, Trade the Plan  "
      ]
     },
     "execution_count": 6,
     "metadata": {},
     "output_type": "execute_result"
    }
   ],
   "source": [
    "# Create an identifier containing the path to the folder\n",
    "folder = \"twitter_data\"\n",
    "\n",
    "# Read each file into a dataframe and store them in a list\n",
    "dfs = []\n",
    "count = 0\n",
    "for file_name in os.listdir(folder):\n",
    "    file_path = os.path.join(folder, file_name)\n",
    "    df = pd.read_csv(file_path)\n",
    "    dfs.append(df)\n",
    "    \n",
    "# Merge the dataframes \n",
    "tweets = pd.concat(dfs, axis=0, ignore_index=True)  \n",
    "tweets.head()\n"
   ]
  },
  {
   "cell_type": "code",
   "execution_count": 7,
   "metadata": {},
   "outputs": [
    {
     "data": {
      "text/plain": [
       "(287059, 6)"
      ]
     },
     "execution_count": 7,
     "metadata": {},
     "output_type": "execute_result"
    }
   ],
   "source": [
    "tweets.shape"
   ]
  },
  {
   "cell_type": "code",
   "execution_count": 8,
   "metadata": {},
   "outputs": [
    {
     "data": {
      "text/plain": [
       "16732"
      ]
     },
     "execution_count": 8,
     "metadata": {},
     "output_type": "execute_result"
    }
   ],
   "source": [
    "# Checking for duplicates\n",
    "tweets.duplicated(subset=['Tweet_ID']).sum()"
   ]
  },
  {
   "cell_type": "code",
   "execution_count": 9,
   "metadata": {},
   "outputs": [
    {
     "data": {
      "text/plain": [
       "(270327, 6)"
      ]
     },
     "execution_count": 9,
     "metadata": {},
     "output_type": "execute_result"
    }
   ],
   "source": [
    "# Dropping duplicates\n",
    "tweets = tweets.drop_duplicates(subset=['Tweet_ID'], keep='first').reset_index(drop=True)\n",
    "tweets.shape"
   ]
  },
  {
   "cell_type": "code",
   "execution_count": 10,
   "metadata": {},
   "outputs": [
    {
     "data": {
      "text/plain": [
       "0"
      ]
     },
     "execution_count": 10,
     "metadata": {},
     "output_type": "execute_result"
    }
   ],
   "source": [
    "# Making sure duplicates were dropped\n",
    "tweets.duplicated(subset=['Tweet_ID']).sum()"
   ]
  },
  {
   "cell_type": "code",
   "execution_count": 11,
   "metadata": {},
   "outputs": [
    {
     "data": {
      "text/plain": [
       "Tweet_ID             0\n",
       "Time_Created         0\n",
       "Text                 0\n",
       "Likes                0\n",
       "Retweets             0\n",
       "Location        116472\n",
       "dtype: int64"
      ]
     },
     "execution_count": 11,
     "metadata": {},
     "output_type": "execute_result"
    }
   ],
   "source": [
    "# Return the number of missing values in each column of the dataset\n",
    "tweets.isnull().sum()"
   ]
  },
  {
   "cell_type": "code",
   "execution_count": 12,
   "metadata": {},
   "outputs": [
    {
     "data": {
      "text/html": [
       "<div>\n",
       "<style scoped>\n",
       "    .dataframe tbody tr th:only-of-type {\n",
       "        vertical-align: middle;\n",
       "    }\n",
       "\n",
       "    .dataframe tbody tr th {\n",
       "        vertical-align: top;\n",
       "    }\n",
       "\n",
       "    .dataframe thead th {\n",
       "        text-align: right;\n",
       "    }\n",
       "</style>\n",
       "<table border=\"1\" class=\"dataframe\">\n",
       "  <thead>\n",
       "    <tr style=\"text-align: right;\">\n",
       "      <th></th>\n",
       "      <th>Tweet_ID</th>\n",
       "      <th>Time_Created</th>\n",
       "      <th>Text</th>\n",
       "      <th>Likes</th>\n",
       "      <th>Retweets</th>\n",
       "    </tr>\n",
       "  </thead>\n",
       "  <tbody>\n",
       "    <tr>\n",
       "      <th>0</th>\n",
       "      <td>1744146496243822931</td>\n",
       "      <td>2024-01-07 23:58:24+00:00</td>\n",
       "      <td>@SelfMadeMastery Best: $NVDA, $CRWD, $META, $T...</td>\n",
       "      <td>1</td>\n",
       "      <td>0</td>\n",
       "    </tr>\n",
       "    <tr>\n",
       "      <th>1</th>\n",
       "      <td>1744146280576926128</td>\n",
       "      <td>2024-01-07 23:57:32+00:00</td>\n",
       "      <td>Most Notable #Earnings Week of JAN 8th\\n\\n◦ Mo...</td>\n",
       "      <td>0</td>\n",
       "      <td>0</td>\n",
       "    </tr>\n",
       "    <tr>\n",
       "      <th>2</th>\n",
       "      <td>1744145386850422822</td>\n",
       "      <td>2024-01-07 23:53:59+00:00</td>\n",
       "      <td>🇺🇸 U.S. ECONOMIC DATA 2ND WEEK\\n\\nTHURS.\\n◦ U....</td>\n",
       "      <td>0</td>\n",
       "      <td>0</td>\n",
       "    </tr>\n",
       "    <tr>\n",
       "      <th>3</th>\n",
       "      <td>1744145096592007411</td>\n",
       "      <td>2024-01-07 23:52:50+00:00</td>\n",
       "      <td>$MARA We nailed this play. I kept on hammering...</td>\n",
       "      <td>3</td>\n",
       "      <td>0</td>\n",
       "    </tr>\n",
       "    <tr>\n",
       "      <th>4</th>\n",
       "      <td>1743200305033175350</td>\n",
       "      <td>2024-01-05 09:18:34+00:00</td>\n",
       "      <td>$MARA Scaled out of this position yesterday\\n\\...</td>\n",
       "      <td>1</td>\n",
       "      <td>0</td>\n",
       "    </tr>\n",
       "  </tbody>\n",
       "</table>\n",
       "</div>"
      ],
      "text/plain": [
       "              Tweet_ID               Time_Created  \\\n",
       "0  1744146496243822931  2024-01-07 23:58:24+00:00   \n",
       "1  1744146280576926128  2024-01-07 23:57:32+00:00   \n",
       "2  1744145386850422822  2024-01-07 23:53:59+00:00   \n",
       "3  1744145096592007411  2024-01-07 23:52:50+00:00   \n",
       "4  1743200305033175350  2024-01-05 09:18:34+00:00   \n",
       "\n",
       "                                                Text  Likes  Retweets  \n",
       "0  @SelfMadeMastery Best: $NVDA, $CRWD, $META, $T...      1         0  \n",
       "1  Most Notable #Earnings Week of JAN 8th\\n\\n◦ Mo...      0         0  \n",
       "2  🇺🇸 U.S. ECONOMIC DATA 2ND WEEK\\n\\nTHURS.\\n◦ U....      0         0  \n",
       "3  $MARA We nailed this play. I kept on hammering...      3         0  \n",
       "4  $MARA Scaled out of this position yesterday\\n\\...      1         0  "
      ]
     },
     "execution_count": 12,
     "metadata": {},
     "output_type": "execute_result"
    }
   ],
   "source": [
    "# Drop the location attribute\n",
    "tweets  = tweets.drop(\"Location\", axis = 1)\n",
    "tweets.head()"
   ]
  },
  {
   "cell_type": "code",
   "execution_count": 13,
   "metadata": {},
   "outputs": [
    {
     "data": {
      "text/html": [
       "<div>\n",
       "<style scoped>\n",
       "    .dataframe tbody tr th:only-of-type {\n",
       "        vertical-align: middle;\n",
       "    }\n",
       "\n",
       "    .dataframe tbody tr th {\n",
       "        vertical-align: top;\n",
       "    }\n",
       "\n",
       "    .dataframe thead th {\n",
       "        text-align: right;\n",
       "    }\n",
       "</style>\n",
       "<table border=\"1\" class=\"dataframe\">\n",
       "  <thead>\n",
       "    <tr style=\"text-align: right;\">\n",
       "      <th></th>\n",
       "      <th>Tweet_ID</th>\n",
       "      <th>Time_Created</th>\n",
       "      <th>Text</th>\n",
       "      <th>Likes</th>\n",
       "      <th>Retweets</th>\n",
       "    </tr>\n",
       "  </thead>\n",
       "  <tbody>\n",
       "    <tr>\n",
       "      <th>0</th>\n",
       "      <td>1744146496243822931</td>\n",
       "      <td>2024-01-07</td>\n",
       "      <td>@SelfMadeMastery Best: $NVDA, $CRWD, $META, $T...</td>\n",
       "      <td>1</td>\n",
       "      <td>0</td>\n",
       "    </tr>\n",
       "    <tr>\n",
       "      <th>1</th>\n",
       "      <td>1744146280576926128</td>\n",
       "      <td>2024-01-07</td>\n",
       "      <td>Most Notable #Earnings Week of JAN 8th\\n\\n◦ Mo...</td>\n",
       "      <td>0</td>\n",
       "      <td>0</td>\n",
       "    </tr>\n",
       "    <tr>\n",
       "      <th>2</th>\n",
       "      <td>1744145386850422822</td>\n",
       "      <td>2024-01-07</td>\n",
       "      <td>🇺🇸 U.S. ECONOMIC DATA 2ND WEEK\\n\\nTHURS.\\n◦ U....</td>\n",
       "      <td>0</td>\n",
       "      <td>0</td>\n",
       "    </tr>\n",
       "    <tr>\n",
       "      <th>3</th>\n",
       "      <td>1744145096592007411</td>\n",
       "      <td>2024-01-07</td>\n",
       "      <td>$MARA We nailed this play. I kept on hammering...</td>\n",
       "      <td>3</td>\n",
       "      <td>0</td>\n",
       "    </tr>\n",
       "    <tr>\n",
       "      <th>4</th>\n",
       "      <td>1743200305033175350</td>\n",
       "      <td>2024-01-05</td>\n",
       "      <td>$MARA Scaled out of this position yesterday\\n\\...</td>\n",
       "      <td>1</td>\n",
       "      <td>0</td>\n",
       "    </tr>\n",
       "  </tbody>\n",
       "</table>\n",
       "</div>"
      ],
      "text/plain": [
       "              Tweet_ID Time_Created  \\\n",
       "0  1744146496243822931   2024-01-07   \n",
       "1  1744146280576926128   2024-01-07   \n",
       "2  1744145386850422822   2024-01-07   \n",
       "3  1744145096592007411   2024-01-07   \n",
       "4  1743200305033175350   2024-01-05   \n",
       "\n",
       "                                                Text  Likes  Retweets  \n",
       "0  @SelfMadeMastery Best: $NVDA, $CRWD, $META, $T...      1         0  \n",
       "1  Most Notable #Earnings Week of JAN 8th\\n\\n◦ Mo...      0         0  \n",
       "2  🇺🇸 U.S. ECONOMIC DATA 2ND WEEK\\n\\nTHURS.\\n◦ U....      0         0  \n",
       "3  $MARA We nailed this play. I kept on hammering...      3         0  \n",
       "4  $MARA Scaled out of this position yesterday\\n\\...      1         0  "
      ]
     },
     "execution_count": 13,
     "metadata": {},
     "output_type": "execute_result"
    }
   ],
   "source": [
    "# Convert the time created attribute to dates \n",
    "tweets['Time_Created'] = pd.to_datetime(tweets['Time_Created']).dt.date\n",
    "tweets.head()"
   ]
  },
  {
   "cell_type": "code",
   "execution_count": 14,
   "metadata": {},
   "outputs": [
    {
     "data": {
      "text/plain": [
       "(269199, 5)"
      ]
     },
     "execution_count": 14,
     "metadata": {},
     "output_type": "execute_result"
    }
   ],
   "source": [
    "# Define the start and end dates of the range\n",
    "start_date = date(2024, 1, 1)\n",
    "end_date = date(2024, 3, 31)\n",
    "# Filter the DataFrame based on the date range\n",
    "filtered_tweets = tweets[(tweets['Time_Created'] >= start_date) & (tweets['Time_Created'] <= end_date)]\n",
    "filtered_tweets.shape"
   ]
  },
  {
   "cell_type": "code",
   "execution_count": 22,
   "metadata": {},
   "outputs": [],
   "source": [
    "# This function is used to pass the POS tage for each word passed through clean_text function\n",
    "def get_wordnet_pos(word):\n",
    "    \"\"\"Map POS tag to first character lemmatize() accepts\"\"\"\n",
    "    tag = pos_tag([word])[0][1][0].upper()\n",
    "    tag_dict = {\"J\": wordnet.ADJ,\n",
    "                \"N\": wordnet.NOUN,\n",
    "                \"V\": wordnet.VERB,\n",
    "                \"R\": wordnet.ADV}\n",
    "\n",
    "    return tag_dict.get(tag, wordnet.NOUN)"
   ]
  },
  {
   "cell_type": "code",
   "execution_count": 23,
   "metadata": {},
   "outputs": [],
   "source": [
    "# Cleaning tweets\n",
    "def clean_text(text):\n",
    "    # Initialization the twitter tokenizer\n",
    "    tk = TweetTokenizer(preserve_case=False, strip_handles=True,reduce_len=True) \n",
    "    # Initialization the lemmatizer\n",
    "    lemmatizer = WordNetLemmatizer()  \n",
    "    # Trying to avoid deleting the negative verbs as it affects the meaning of the tweets.\n",
    "    stop_words = stopwords.words('english') + [\"i'll\",\"i'm\", \"should\", \"could\"]\n",
    "    negative_verbs = [ \"shan't\",'shouldn',\"shouldn't\",'wasn','weren','won','wouldn','aren','couldn','didn','doesn','hadn','hasn','haven','isn','ma','mightn','mustn',\"mustn't\",'needn',\"needn't\",\"wouldn't\",\"won't\",\"weren't\",\"wasn't\",\"couldn\",\"not\",\"nor\",\"no\",\"mightn't\",\"isn't\",\"haven't\",\"hadn't\",\"hasn't\",\"didn't\",\"doesn't\",\"aren't\",\"don't\",\"couldn't\",\"never\"]\n",
    "    stop_words =[word for word in stop_words if word not in negative_verbs ] \n",
    "    \n",
    "    # Lowering tweets\n",
    "    lower_tweet = text.lower() \n",
    "    # Removing hashtag and cashtag symbols\n",
    "    tweet = re.sub(r\"[#$]\",\" \",lower_tweet)\n",
    "    # Removing links from tweets\n",
    "    tweet = re.sub(r\"https?:\\/\\/.*[\\r\\n]*\",\" \", tweet)\n",
    "    # Translating emojies into thier descriptions\n",
    "    tweet = demoji.replace_with_desc(tweet)\n",
    "    # removing numerical values\n",
    "    tweet = re.sub(r\"[0-9]|-->\",\"\",tweet)\n",
    "    # Tokenize the tweets by twitter tokenzier.\n",
    "    tweet = tk.tokenize(tweet)\n",
    "    # Choosing the words that don't exist in stopwords, thier lengths are more than 2 letters and then lemmatize them.\n",
    "    tweet = [lemmatizer.lemmatize(word, get_wordnet_pos(word)) for word in tweet if word not in stop_words and word not in string.punctuation and len(word)>2 and \".\" not in word]\n",
    "    # return the tokens in one sentence \n",
    "    tweet = \" \".join(tweet)\n",
    "    \n",
    "    return tweet"
   ]
  },
  {
   "cell_type": "code",
   "execution_count": 28,
   "metadata": {},
   "outputs": [
    {
     "name": "stderr",
     "output_type": "stream",
     "text": [
      "C:\\Users\\Pranay\\AppData\\Local\\Temp\\ipykernel_13432\\451975985.py:2: SettingWithCopyWarning: \n",
      "A value is trying to be set on a copy of a slice from a DataFrame.\n",
      "Try using .loc[row_indexer,col_indexer] = value instead\n",
      "\n",
      "See the caveats in the documentation: https://pandas.pydata.org/pandas-docs/stable/user_guide/indexing.html#returning-a-view-versus-a-copy\n",
      "  filtered_tweets['cleaned'] = filtered_tweets[\"Text\"].apply(lambda row:clean_text(row))\n"
     ]
    },
    {
     "name": "stdout",
     "output_type": "stream",
     "text": [
      "Filtered tweets added to the folder\n"
     ]
    }
   ],
   "source": [
    "# Applying text cleaning and then saving the filtered tweets as a csv file\n",
    "filtered_tweets['cleaned'] = filtered_tweets[\"Text\"].apply(lambda row:clean_text(row))\n",
    "filtered_tweets.to_csv(\"twitter_data/NVDA_final-tweets\")\n",
    "print(\"Filtered tweets added to the folder\")"
   ]
  },
  {
   "cell_type": "code",
   "execution_count": 29,
   "metadata": {},
   "outputs": [
    {
     "data": {
      "text/html": [
       "<div>\n",
       "<style scoped>\n",
       "    .dataframe tbody tr th:only-of-type {\n",
       "        vertical-align: middle;\n",
       "    }\n",
       "\n",
       "    .dataframe tbody tr th {\n",
       "        vertical-align: top;\n",
       "    }\n",
       "\n",
       "    .dataframe thead th {\n",
       "        text-align: right;\n",
       "    }\n",
       "</style>\n",
       "<table border=\"1\" class=\"dataframe\">\n",
       "  <thead>\n",
       "    <tr style=\"text-align: right;\">\n",
       "      <th></th>\n",
       "      <th>Tweet_ID</th>\n",
       "      <th>Time_Created</th>\n",
       "      <th>Text</th>\n",
       "      <th>Likes</th>\n",
       "      <th>Retweets</th>\n",
       "      <th>cleaned</th>\n",
       "    </tr>\n",
       "  </thead>\n",
       "  <tbody>\n",
       "    <tr>\n",
       "      <th>0</th>\n",
       "      <td>1744146496243822931</td>\n",
       "      <td>2024-01-07</td>\n",
       "      <td>@SelfMadeMastery Best: $NVDA, $CRWD, $META, $T...</td>\n",
       "      <td>1</td>\n",
       "      <td>0</td>\n",
       "      <td>best nvda crwd meta tsla bad enph use oppurtun...</td>\n",
       "    </tr>\n",
       "    <tr>\n",
       "      <th>1</th>\n",
       "      <td>1744146280576926128</td>\n",
       "      <td>2024-01-07</td>\n",
       "      <td>Most Notable #Earnings Week of JAN 8th\\n\\n◦ Mo...</td>\n",
       "      <td>0</td>\n",
       "      <td>0</td>\n",
       "      <td>notable earnings week jan mon accd tues tlry a...</td>\n",
       "    </tr>\n",
       "    <tr>\n",
       "      <th>2</th>\n",
       "      <td>1744145386850422822</td>\n",
       "      <td>2024-01-07</td>\n",
       "      <td>🇺🇸 U.S. ECONOMIC DATA 2ND WEEK\\n\\nTHURS.\\n◦ U....</td>\n",
       "      <td>0</td>\n",
       "      <td>0</td>\n",
       "      <td>flag united state economic data week thurs cpi...</td>\n",
       "    </tr>\n",
       "    <tr>\n",
       "      <th>3</th>\n",
       "      <td>1744145096592007411</td>\n",
       "      <td>2024-01-07</td>\n",
       "      <td>$MARA We nailed this play. I kept on hammering...</td>\n",
       "      <td>3</td>\n",
       "      <td>0</td>\n",
       "      <td>mara nail play kept hammer risk reward hence l...</td>\n",
       "    </tr>\n",
       "    <tr>\n",
       "      <th>4</th>\n",
       "      <td>1743200305033175350</td>\n",
       "      <td>2024-01-05</td>\n",
       "      <td>$MARA Scaled out of this position yesterday\\n\\...</td>\n",
       "      <td>1</td>\n",
       "      <td>0</td>\n",
       "      <td>mara scale position yesterday last time specul...</td>\n",
       "    </tr>\n",
       "  </tbody>\n",
       "</table>\n",
       "</div>"
      ],
      "text/plain": [
       "              Tweet_ID Time_Created  \\\n",
       "0  1744146496243822931   2024-01-07   \n",
       "1  1744146280576926128   2024-01-07   \n",
       "2  1744145386850422822   2024-01-07   \n",
       "3  1744145096592007411   2024-01-07   \n",
       "4  1743200305033175350   2024-01-05   \n",
       "\n",
       "                                                Text  Likes  Retweets  \\\n",
       "0  @SelfMadeMastery Best: $NVDA, $CRWD, $META, $T...      1         0   \n",
       "1  Most Notable #Earnings Week of JAN 8th\\n\\n◦ Mo...      0         0   \n",
       "2  🇺🇸 U.S. ECONOMIC DATA 2ND WEEK\\n\\nTHURS.\\n◦ U....      0         0   \n",
       "3  $MARA We nailed this play. I kept on hammering...      3         0   \n",
       "4  $MARA Scaled out of this position yesterday\\n\\...      1         0   \n",
       "\n",
       "                                             cleaned  \n",
       "0  best nvda crwd meta tsla bad enph use oppurtun...  \n",
       "1  notable earnings week jan mon accd tues tlry a...  \n",
       "2  flag united state economic data week thurs cpi...  \n",
       "3  mara nail play kept hammer risk reward hence l...  \n",
       "4  mara scale position yesterday last time specul...  "
      ]
     },
     "execution_count": 29,
     "metadata": {},
     "output_type": "execute_result"
    }
   ],
   "source": [
    "filtered_tweets.head()"
   ]
  }
 ],
 "metadata": {
  "kernelspec": {
   "display_name": ".venv",
   "language": "python",
   "name": "python3"
  },
  "language_info": {
   "codemirror_mode": {
    "name": "ipython",
    "version": 3
   },
   "file_extension": ".py",
   "mimetype": "text/x-python",
   "name": "python",
   "nbconvert_exporter": "python",
   "pygments_lexer": "ipython3",
   "version": "3.11.1"
  }
 },
 "nbformat": 4,
 "nbformat_minor": 2
}

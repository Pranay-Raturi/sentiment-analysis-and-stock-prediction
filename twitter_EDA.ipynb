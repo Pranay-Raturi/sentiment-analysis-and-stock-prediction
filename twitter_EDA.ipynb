{
 "cells": [
  {
   "cell_type": "code",
   "execution_count": 46,
   "metadata": {},
   "outputs": [],
   "source": [
    "import pandas as pd\n",
    "from datetime import date\n",
    "import os"
   ]
  },
  {
   "cell_type": "code",
   "execution_count": 30,
   "metadata": {},
   "outputs": [
    {
     "data": {
      "text/html": [
       "<div>\n",
       "<style scoped>\n",
       "    .dataframe tbody tr th:only-of-type {\n",
       "        vertical-align: middle;\n",
       "    }\n",
       "\n",
       "    .dataframe tbody tr th {\n",
       "        vertical-align: top;\n",
       "    }\n",
       "\n",
       "    .dataframe thead th {\n",
       "        text-align: right;\n",
       "    }\n",
       "</style>\n",
       "<table border=\"1\" class=\"dataframe\">\n",
       "  <thead>\n",
       "    <tr style=\"text-align: right;\">\n",
       "      <th></th>\n",
       "      <th>Tweet_ID</th>\n",
       "      <th>Time_Created</th>\n",
       "      <th>Text</th>\n",
       "      <th>Likes</th>\n",
       "      <th>Retweets</th>\n",
       "      <th>Location</th>\n",
       "    </tr>\n",
       "  </thead>\n",
       "  <tbody>\n",
       "    <tr>\n",
       "      <th>0</th>\n",
       "      <td>1744146496243822931</td>\n",
       "      <td>2024-01-07 23:58:24+00:00</td>\n",
       "      <td>@SelfMadeMastery Best: $NVDA, $CRWD, $META, $T...</td>\n",
       "      <td>1</td>\n",
       "      <td>0</td>\n",
       "      <td>NaN</td>\n",
       "    </tr>\n",
       "    <tr>\n",
       "      <th>1</th>\n",
       "      <td>1744146280576926128</td>\n",
       "      <td>2024-01-07 23:57:32+00:00</td>\n",
       "      <td>Most Notable #Earnings Week of JAN 8th\\n\\n◦ Mo...</td>\n",
       "      <td>0</td>\n",
       "      <td>0</td>\n",
       "      <td>NaN</td>\n",
       "    </tr>\n",
       "    <tr>\n",
       "      <th>2</th>\n",
       "      <td>1744145386850422822</td>\n",
       "      <td>2024-01-07 23:53:59+00:00</td>\n",
       "      <td>🇺🇸 U.S. ECONOMIC DATA 2ND WEEK\\n\\nTHURS.\\n◦ U....</td>\n",
       "      <td>0</td>\n",
       "      <td>0</td>\n",
       "      <td>NaN</td>\n",
       "    </tr>\n",
       "    <tr>\n",
       "      <th>3</th>\n",
       "      <td>1744145096592007411</td>\n",
       "      <td>2024-01-07 23:52:50+00:00</td>\n",
       "      <td>$MARA We nailed this play. I kept on hammering...</td>\n",
       "      <td>3</td>\n",
       "      <td>0</td>\n",
       "      <td>Plan the Trade, Trade the Plan</td>\n",
       "    </tr>\n",
       "    <tr>\n",
       "      <th>4</th>\n",
       "      <td>1743200305033175350</td>\n",
       "      <td>2024-01-05 09:18:34+00:00</td>\n",
       "      <td>$MARA Scaled out of this position yesterday\\n\\...</td>\n",
       "      <td>1</td>\n",
       "      <td>0</td>\n",
       "      <td>Plan the Trade, Trade the Plan</td>\n",
       "    </tr>\n",
       "  </tbody>\n",
       "</table>\n",
       "</div>"
      ],
      "text/plain": [
       "              Tweet_ID               Time_Created  \\\n",
       "0  1744146496243822931  2024-01-07 23:58:24+00:00   \n",
       "1  1744146280576926128  2024-01-07 23:57:32+00:00   \n",
       "2  1744145386850422822  2024-01-07 23:53:59+00:00   \n",
       "3  1744145096592007411  2024-01-07 23:52:50+00:00   \n",
       "4  1743200305033175350  2024-01-05 09:18:34+00:00   \n",
       "\n",
       "                                                Text  Likes  Retweets  \\\n",
       "0  @SelfMadeMastery Best: $NVDA, $CRWD, $META, $T...      1         0   \n",
       "1  Most Notable #Earnings Week of JAN 8th\\n\\n◦ Mo...      0         0   \n",
       "2  🇺🇸 U.S. ECONOMIC DATA 2ND WEEK\\n\\nTHURS.\\n◦ U....      0         0   \n",
       "3  $MARA We nailed this play. I kept on hammering...      3         0   \n",
       "4  $MARA Scaled out of this position yesterday\\n\\...      1         0   \n",
       "\n",
       "                         Location  \n",
       "0                             NaN  \n",
       "1                             NaN  \n",
       "2                             NaN  \n",
       "3  Plan the Trade, Trade the Plan  \n",
       "4  Plan the Trade, Trade the Plan  "
      ]
     },
     "execution_count": 30,
     "metadata": {},
     "output_type": "execute_result"
    }
   ],
   "source": [
    "#create an identifier containing the path to the folder\n",
    "folder = \"twitter_data\"\n",
    "\n",
    "#read each file into a dataframe and store them in a list\n",
    "dfs = []\n",
    "count = 0\n",
    "for file_name in os.listdir(folder):\n",
    "    file_path = os.path.join(folder, file_name)\n",
    "    df = pd.read_csv(file_path)\n",
    "    dfs.append(df)\n",
    "    \n",
    "#merge the dataframes \n",
    "tweets = pd.concat(dfs, axis=0, ignore_index=True)  \n",
    "tweets.head()\n"
   ]
  },
  {
   "cell_type": "code",
   "execution_count": 31,
   "metadata": {},
   "outputs": [
    {
     "data": {
      "text/plain": [
       "(287059, 6)"
      ]
     },
     "execution_count": 31,
     "metadata": {},
     "output_type": "execute_result"
    }
   ],
   "source": [
    "tweets.shape"
   ]
  },
  {
   "cell_type": "code",
   "execution_count": 33,
   "metadata": {},
   "outputs": [
    {
     "data": {
      "text/plain": [
       "16732"
      ]
     },
     "execution_count": 33,
     "metadata": {},
     "output_type": "execute_result"
    }
   ],
   "source": [
    "#checking for duplicates\n",
    "tweets.duplicated(subset=['Tweet_ID']).sum()"
   ]
  },
  {
   "cell_type": "code",
   "execution_count": 34,
   "metadata": {},
   "outputs": [
    {
     "data": {
      "text/plain": [
       "(270327, 6)"
      ]
     },
     "execution_count": 34,
     "metadata": {},
     "output_type": "execute_result"
    }
   ],
   "source": [
    "#drop duplicates\n",
    "tweets = tweets.drop_duplicates(subset=['Tweet_ID'], keep='first').reset_index(drop=True)\n",
    "tweets.shape"
   ]
  },
  {
   "cell_type": "code",
   "execution_count": 35,
   "metadata": {},
   "outputs": [
    {
     "data": {
      "text/plain": [
       "0"
      ]
     },
     "execution_count": 35,
     "metadata": {},
     "output_type": "execute_result"
    }
   ],
   "source": [
    "#making sure duplicates were dropped\n",
    "tweets.duplicated(subset=['Tweet_ID']).sum()"
   ]
  },
  {
   "cell_type": "code",
   "execution_count": 36,
   "metadata": {},
   "outputs": [
    {
     "data": {
      "text/plain": [
       "Tweet_ID             0\n",
       "Time_Created         0\n",
       "Text                 0\n",
       "Likes                0\n",
       "Retweets             0\n",
       "Location        116472\n",
       "dtype: int64"
      ]
     },
     "execution_count": 36,
     "metadata": {},
     "output_type": "execute_result"
    }
   ],
   "source": [
    "#return the number of missing values in each column of the dataset\n",
    "tweets.isnull().sum()"
   ]
  },
  {
   "cell_type": "code",
   "execution_count": 41,
   "metadata": {},
   "outputs": [
    {
     "data": {
      "text/html": [
       "<div>\n",
       "<style scoped>\n",
       "    .dataframe tbody tr th:only-of-type {\n",
       "        vertical-align: middle;\n",
       "    }\n",
       "\n",
       "    .dataframe tbody tr th {\n",
       "        vertical-align: top;\n",
       "    }\n",
       "\n",
       "    .dataframe thead th {\n",
       "        text-align: right;\n",
       "    }\n",
       "</style>\n",
       "<table border=\"1\" class=\"dataframe\">\n",
       "  <thead>\n",
       "    <tr style=\"text-align: right;\">\n",
       "      <th></th>\n",
       "      <th>Tweet_ID</th>\n",
       "      <th>Time_Created</th>\n",
       "      <th>Text</th>\n",
       "      <th>Likes</th>\n",
       "      <th>Retweets</th>\n",
       "    </tr>\n",
       "  </thead>\n",
       "  <tbody>\n",
       "    <tr>\n",
       "      <th>0</th>\n",
       "      <td>1744146496243822931</td>\n",
       "      <td>2024-01-07</td>\n",
       "      <td>@SelfMadeMastery Best: $NVDA, $CRWD, $META, $T...</td>\n",
       "      <td>1</td>\n",
       "      <td>0</td>\n",
       "    </tr>\n",
       "    <tr>\n",
       "      <th>1</th>\n",
       "      <td>1744146280576926128</td>\n",
       "      <td>2024-01-07</td>\n",
       "      <td>Most Notable #Earnings Week of JAN 8th\\n\\n◦ Mo...</td>\n",
       "      <td>0</td>\n",
       "      <td>0</td>\n",
       "    </tr>\n",
       "    <tr>\n",
       "      <th>2</th>\n",
       "      <td>1744145386850422822</td>\n",
       "      <td>2024-01-07</td>\n",
       "      <td>🇺🇸 U.S. ECONOMIC DATA 2ND WEEK\\n\\nTHURS.\\n◦ U....</td>\n",
       "      <td>0</td>\n",
       "      <td>0</td>\n",
       "    </tr>\n",
       "    <tr>\n",
       "      <th>3</th>\n",
       "      <td>1744145096592007411</td>\n",
       "      <td>2024-01-07</td>\n",
       "      <td>$MARA We nailed this play. I kept on hammering...</td>\n",
       "      <td>3</td>\n",
       "      <td>0</td>\n",
       "    </tr>\n",
       "    <tr>\n",
       "      <th>4</th>\n",
       "      <td>1743200305033175350</td>\n",
       "      <td>2024-01-05</td>\n",
       "      <td>$MARA Scaled out of this position yesterday\\n\\...</td>\n",
       "      <td>1</td>\n",
       "      <td>0</td>\n",
       "    </tr>\n",
       "  </tbody>\n",
       "</table>\n",
       "</div>"
      ],
      "text/plain": [
       "              Tweet_ID Time_Created  \\\n",
       "0  1744146496243822931   2024-01-07   \n",
       "1  1744146280576926128   2024-01-07   \n",
       "2  1744145386850422822   2024-01-07   \n",
       "3  1744145096592007411   2024-01-07   \n",
       "4  1743200305033175350   2024-01-05   \n",
       "\n",
       "                                                Text  Likes  Retweets  \n",
       "0  @SelfMadeMastery Best: $NVDA, $CRWD, $META, $T...      1         0  \n",
       "1  Most Notable #Earnings Week of JAN 8th\\n\\n◦ Mo...      0         0  \n",
       "2  🇺🇸 U.S. ECONOMIC DATA 2ND WEEK\\n\\nTHURS.\\n◦ U....      0         0  \n",
       "3  $MARA We nailed this play. I kept on hammering...      3         0  \n",
       "4  $MARA Scaled out of this position yesterday\\n\\...      1         0  "
      ]
     },
     "execution_count": 41,
     "metadata": {},
     "output_type": "execute_result"
    }
   ],
   "source": [
    "#drop the location attribute\n",
    "tweets  = tweets.drop(\"Location\", axis = 1)\n",
    "tweets.head()"
   ]
  },
  {
   "cell_type": "code",
   "execution_count": 43,
   "metadata": {},
   "outputs": [
    {
     "data": {
      "text/html": [
       "<div>\n",
       "<style scoped>\n",
       "    .dataframe tbody tr th:only-of-type {\n",
       "        vertical-align: middle;\n",
       "    }\n",
       "\n",
       "    .dataframe tbody tr th {\n",
       "        vertical-align: top;\n",
       "    }\n",
       "\n",
       "    .dataframe thead th {\n",
       "        text-align: right;\n",
       "    }\n",
       "</style>\n",
       "<table border=\"1\" class=\"dataframe\">\n",
       "  <thead>\n",
       "    <tr style=\"text-align: right;\">\n",
       "      <th></th>\n",
       "      <th>Tweet_ID</th>\n",
       "      <th>Time_Created</th>\n",
       "      <th>Text</th>\n",
       "      <th>Likes</th>\n",
       "      <th>Retweets</th>\n",
       "    </tr>\n",
       "  </thead>\n",
       "  <tbody>\n",
       "    <tr>\n",
       "      <th>0</th>\n",
       "      <td>1744146496243822931</td>\n",
       "      <td>2024-01-07</td>\n",
       "      <td>@SelfMadeMastery Best: $NVDA, $CRWD, $META, $T...</td>\n",
       "      <td>1</td>\n",
       "      <td>0</td>\n",
       "    </tr>\n",
       "    <tr>\n",
       "      <th>1</th>\n",
       "      <td>1744146280576926128</td>\n",
       "      <td>2024-01-07</td>\n",
       "      <td>Most Notable #Earnings Week of JAN 8th\\n\\n◦ Mo...</td>\n",
       "      <td>0</td>\n",
       "      <td>0</td>\n",
       "    </tr>\n",
       "    <tr>\n",
       "      <th>2</th>\n",
       "      <td>1744145386850422822</td>\n",
       "      <td>2024-01-07</td>\n",
       "      <td>🇺🇸 U.S. ECONOMIC DATA 2ND WEEK\\n\\nTHURS.\\n◦ U....</td>\n",
       "      <td>0</td>\n",
       "      <td>0</td>\n",
       "    </tr>\n",
       "    <tr>\n",
       "      <th>3</th>\n",
       "      <td>1744145096592007411</td>\n",
       "      <td>2024-01-07</td>\n",
       "      <td>$MARA We nailed this play. I kept on hammering...</td>\n",
       "      <td>3</td>\n",
       "      <td>0</td>\n",
       "    </tr>\n",
       "    <tr>\n",
       "      <th>4</th>\n",
       "      <td>1743200305033175350</td>\n",
       "      <td>2024-01-05</td>\n",
       "      <td>$MARA Scaled out of this position yesterday\\n\\...</td>\n",
       "      <td>1</td>\n",
       "      <td>0</td>\n",
       "    </tr>\n",
       "  </tbody>\n",
       "</table>\n",
       "</div>"
      ],
      "text/plain": [
       "              Tweet_ID Time_Created  \\\n",
       "0  1744146496243822931   2024-01-07   \n",
       "1  1744146280576926128   2024-01-07   \n",
       "2  1744145386850422822   2024-01-07   \n",
       "3  1744145096592007411   2024-01-07   \n",
       "4  1743200305033175350   2024-01-05   \n",
       "\n",
       "                                                Text  Likes  Retweets  \n",
       "0  @SelfMadeMastery Best: $NVDA, $CRWD, $META, $T...      1         0  \n",
       "1  Most Notable #Earnings Week of JAN 8th\\n\\n◦ Mo...      0         0  \n",
       "2  🇺🇸 U.S. ECONOMIC DATA 2ND WEEK\\n\\nTHURS.\\n◦ U....      0         0  \n",
       "3  $MARA We nailed this play. I kept on hammering...      3         0  \n",
       "4  $MARA Scaled out of this position yesterday\\n\\...      1         0  "
      ]
     },
     "execution_count": 43,
     "metadata": {},
     "output_type": "execute_result"
    }
   ],
   "source": [
    "#Convert the time created attribute to dates \n",
    "tweets['Time_Created'] = pd.to_datetime(tweets['Time_Created']).dt.date\n",
    "tweets.head()"
   ]
  },
  {
   "cell_type": "code",
   "execution_count": 48,
   "metadata": {},
   "outputs": [
    {
     "data": {
      "text/plain": [
       "(269199, 5)"
      ]
     },
     "execution_count": 48,
     "metadata": {},
     "output_type": "execute_result"
    }
   ],
   "source": [
    "# Define the start and end dates of the range\n",
    "start_date = date(2024, 1, 1)\n",
    "end_date = date(2024, 3, 31)\n",
    "# Filter the DataFrame based on the date range\n",
    "filtered_tweets = tweets[(tweets['Time_Created'] >= start_date) & (tweets['Time_Created'] <= end_date)]\n",
    "filtered_tweets.shape"
   ]
  },
  {
   "cell_type": "code",
   "execution_count": 49,
   "metadata": {},
   "outputs": [
    {
     "name": "stdout",
     "output_type": "stream",
     "text": [
      "Filtered tweets added to the folder\n"
     ]
    }
   ],
   "source": [
    "#saving the filtered tweets as a csv file\n",
    "filtered_tweets.to_csv(\"twitter_data/NVDA_final-tweets\")\n",
    "print(\"Filtered tweets added to the folder\")"
   ]
  }
 ],
 "metadata": {
  "kernelspec": {
   "display_name": ".venv",
   "language": "python",
   "name": "python3"
  },
  "language_info": {
   "codemirror_mode": {
    "name": "ipython",
    "version": 3
   },
   "file_extension": ".py",
   "mimetype": "text/x-python",
   "name": "python",
   "nbconvert_exporter": "python",
   "pygments_lexer": "ipython3",
   "version": "3.11.1"
  }
 },
 "nbformat": 4,
 "nbformat_minor": 2
}

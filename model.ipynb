{
 "cells": [
  {
   "cell_type": "markdown",
   "metadata": {},
   "source": [
    "# Sentiment Analysis and Stock Prediction Model"
   ]
  },
  {
   "cell_type": "markdown",
   "metadata": {},
   "source": [
    "## Deep Learning"
   ]
  },
  {
   "cell_type": "code",
   "execution_count": 5,
   "metadata": {},
   "outputs": [
    {
     "name": "stdout",
     "output_type": "stream",
     "text": [
      "(853, 1) (213, 1)\n"
     ]
    }
   ],
   "source": [
    "# import torch\n",
    "from torch import nn\n",
    "import math\n",
    "import pandas as pd\n",
    "\n",
    "stock = 'MSFT'\n",
    "\n",
    "stock_data = pd.read_csv(f'stock_data/{stock}_{start_date}_{end_date}.csv')\n",
    "\n",
    "train_split = int(math.ceil(len(stock_data)*0.8))\n",
    "test_split = len(stock_data) - train_split\n",
    "\n",
    "train_data, test_data = stock_data[:train_split].iloc[:,:1], stock_data[train_split:].iloc[:,:1]\n",
    "print(train_data.shape, test_data.shape)"
   ]
  },
  {
   "cell_type": "code",
   "execution_count": null,
   "metadata": {},
   "outputs": [],
   "source": [
    "class Model(nn.Module):\n",
    "    def __init__(self,input_features, output_features,hidden_features):\n",
    "        super().__init__()\n",
    "        self.layers = nn.Sequential(\n",
    "            nn.Linear(in_features=input_features, out_features=hidden_features),\n",
    "            nn.ReLU(),\n",
    "            nn.Linear(in_features=hidden_features, output_features=hidden_features),\n",
    "            nn.ReLU(),\n",
    "            nn.Linear(in_features=hidden_features, output_features=hidden_features),\n",
    "            nn.ReLU(),\n",
    "            nn.Linear(in_features=hidden_features, output_features=output_features),\n",
    "        )\n",
    "    def forward(self,x):\n",
    "        return self.layers(x)\n",
    "model = Model(input_features=5, output_features=1,hidden_features=16)"
   ]
  }
 ],
 "metadata": {
  "kernelspec": {
   "display_name": "Python 3",
   "language": "python",
   "name": "python3"
  },
  "language_info": {
   "codemirror_mode": {
    "name": "ipython",
    "version": 3
   },
   "file_extension": ".py",
   "mimetype": "text/x-python",
   "name": "python",
   "nbconvert_exporter": "python",
   "pygments_lexer": "ipython3",
   "version": "3.11.1"
  }
 },
 "nbformat": 4,
 "nbformat_minor": 2
}

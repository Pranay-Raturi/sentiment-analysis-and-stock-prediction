{
 "cells": [
  {
   "cell_type": "markdown",
   "metadata": {},
   "source": [
    "# Sentiment Analysis and Stock Prediction Model"
   ]
  },
  {
   "cell_type": "markdown",
   "metadata": {},
   "source": [
    "## Retrieve data"
   ]
  },
  {
   "cell_type": "code",
   "execution_count": 1,
   "metadata": {},
   "outputs": [
    {
     "name": "stderr",
     "output_type": "stream",
     "text": [
      "[*********************100%%**********************]  1 of 1 completed\n",
      "[*********************100%%**********************]  1 of 1 completed\n",
      "[*********************100%%**********************]  1 of 1 completed\n",
      "[*********************100%%**********************]  1 of 1 completed\n",
      "[*********************100%%**********************]  1 of 1 completed\n",
      "[*********************100%%**********************]  1 of 1 completed\n",
      "[*********************100%%**********************]  1 of 1 completed\n",
      "[*********************100%%**********************]  1 of 1 completed\n"
     ]
    }
   ],
   "source": [
    "import stock_retriever as sr\n",
    "from datetime import datetime\n",
    "import os\n",
    "stocks = ['MSFT', 'AAPL', 'NVDA','GOOGL','GOOG','AMZN','META','TSLA']\n",
    "start_date = '2020-01-01'\n",
    "end_date = datetime.today().strftime('%Y-%m-%d')\n",
    "for stock in stocks:\n",
    "    if(not os.path.exists(f'stock_data/{stock}_{start_date}_{end_date}.csv')):\n",
    "        sr.get_stock_data(stock, start_date=start_date, end_date=end_date).to_csv(f'stock_data/{stock}_{start_date}_{end_date}.csv')"
   ]
  },
  {
   "cell_type": "markdown",
   "metadata": {},
   "source": [
    "## Deep Learning"
   ]
  },
  {
   "cell_type": "code",
   "execution_count": 5,
   "metadata": {},
   "outputs": [
    {
     "name": "stdout",
     "output_type": "stream",
     "text": [
      "(853, 1) (213, 1)\n"
     ]
    }
   ],
   "source": [
    "import torch\n",
    "from torch import nn\n",
    "import math\n",
    "import pandas as pd\n",
    "\n",
    "stock = 'MSFT'\n",
    "\n",
    "stock_data = pd.read_csv(f'stock_data/{stock}_{start_date}_{end_date}.csv')\n",
    "\n",
    "train_split = int(math.ceil(len(stock_data)*0.8))\n",
    "test_split = len(stock_data) - train_split\n",
    "\n",
    "train_data, test_data = stock_data[:train_split].iloc[:,:1], stock_data[train_split:].iloc[:,:1]\n",
    "print(train_data.shape, test_data.shape)"
   ]
  }
 ],
 "metadata": {
  "kernelspec": {
   "display_name": "Python 3",
   "language": "python",
   "name": "python3"
  },
  "language_info": {
   "codemirror_mode": {
    "name": "ipython",
    "version": 3
   },
   "file_extension": ".py",
   "mimetype": "text/x-python",
   "name": "python",
   "nbconvert_exporter": "python",
   "pygments_lexer": "ipython3",
   "version": "3.11.5"
  }
 },
 "nbformat": 4,
 "nbformat_minor": 2
}

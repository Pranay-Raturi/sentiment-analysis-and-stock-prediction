{
 "cells": [
  {
   "cell_type": "markdown",
   "metadata": {},
   "source": [
    "## Download required data from yahoo finance"
   ]
  },
  {
   "cell_type": "markdown",
   "metadata": {},
   "source": [
    "### Import libraries"
   ]
  },
  {
   "cell_type": "code",
   "execution_count": 5,
   "metadata": {},
   "outputs": [],
   "source": [
    "import yfinance as yf\n",
    "import pandas as pd"
   ]
  },
  {
   "cell_type": "code",
   "execution_count": 6,
   "metadata": {},
   "outputs": [],
   "source": [
    "import asyncio\n",
    "from twscrape import API, gather"
   ]
  },
  {
   "cell_type": "markdown",
   "metadata": {},
   "source": [
    "### Download the stock data"
   ]
  },
  {
   "cell_type": "code",
   "execution_count": 11,
   "metadata": {},
   "outputs": [
    {
     "name": "stderr",
     "output_type": "stream",
     "text": [
      "[*********************100%%**********************]  1 of 1 completed"
     ]
    },
    {
     "name": "stdout",
     "output_type": "stream",
     "text": [
      "Data added to stock_data folder\n"
     ]
    },
    {
     "name": "stderr",
     "output_type": "stream",
     "text": [
      "\n"
     ]
    }
   ],
   "source": [
    "# NVDA is the stock ticker of Nvidia on the NYSE\n",
    "ticker = \"NVDA\"\n",
    "start_date = \"2024-01-01\"\n",
    "end_date = \"2024-03-31\"\n",
    "# download the data from Yahoo Finance\n",
    "data = yf.download(ticker, start=start_date, end=end_date) \n",
    "# convert the downloaded data into csv files\n",
    "data.to_csv(f\"stock_data/{ticker}_{start_date[-5:]}-{end_date[-5:]}\")\n",
    "print(\"Data added to stock_data folder\")"
   ]
  },
  {
   "cell_type": "markdown",
   "metadata": {},
   "source": [
    "## twitter data"
   ]
  },
  {
   "cell_type": "code",
   "execution_count": 4,
   "metadata": {},
   "outputs": [],
   "source": [
    "api = API()"
   ]
  },
  {
   "cell_type": "code",
   "execution_count": 5,
   "metadata": {},
   "outputs": [],
   "source": [
    "async def scrape_tweets(company, start_date, end_date):\n",
    "    \n",
    "    data = []  #create an empty list to be used to store the search results\n",
    "    \n",
    "    #define the search query. Include start date and end date\n",
    "    q = f\"${company} until:{end_date} since:{start_date} lang:en\" \n",
    "    save_to_file = f\"twitter_data/{company}_{start_date}-{end_date}\"\n",
    "    \n",
    "    async for tweet in api.search(q, limit=300000): #iterate over the search results\n",
    "        c = [tweet.id, tweet.date, tweet.rawContent, tweet.likeCount, tweet.retweetCount, tweet.user.location] #list of attributes to return \n",
    "        data.append(c)  #add each new list of attributes to 'data'\n",
    "    \n",
    "    df = pd.DataFrame(data, columns=['Tweet_ID', 'Time_Created', 'Text', 'Likes', 'Retweets', 'Location']) #convert the list to a dataframe\n",
    "    df.to_csv(save_to_file, index = False) #save to a chosen directory on the computer\n",
    "    return df"
   ]
  },
  {
   "cell_type": "code",
   "execution_count": 44,
   "metadata": {},
   "outputs": [
    {
     "name": "stderr",
     "output_type": "stream",
     "text": [
      "\u001b[32m2024-04-23 22:45:58.312\u001b[0m | \u001b[33m\u001b[1mWARNING \u001b[0m | \u001b[36mtwscrape.queue_client\u001b[0m:\u001b[36m_check_rep\u001b[0m:\u001b[36m162\u001b[0m - \u001b[33m\u001b[1mSession expired or banned: 401 - -1/-1 - anshul904 - (32) Could not authenticate you\u001b[0m\n",
      "\u001b[32m2024-04-23 22:46:40.410\u001b[0m | \u001b[33m\u001b[1mWARNING \u001b[0m | \u001b[36mtwscrape.queue_client\u001b[0m:\u001b[36m_check_rep\u001b[0m:\u001b[36m162\u001b[0m - \u001b[33m\u001b[1mSession expired or banned: 401 - -1/-1 - PranayRaturi - (32) Could not authenticate you\u001b[0m\n"
     ]
    },
    {
     "data": {
      "text/html": [
       "<div>\n",
       "<style scoped>\n",
       "    .dataframe tbody tr th:only-of-type {\n",
       "        vertical-align: middle;\n",
       "    }\n",
       "\n",
       "    .dataframe tbody tr th {\n",
       "        vertical-align: top;\n",
       "    }\n",
       "\n",
       "    .dataframe thead th {\n",
       "        text-align: right;\n",
       "    }\n",
       "</style>\n",
       "<table border=\"1\" class=\"dataframe\">\n",
       "  <thead>\n",
       "    <tr style=\"text-align: right;\">\n",
       "      <th></th>\n",
       "      <th>Tweet_ID</th>\n",
       "      <th>Time_Created</th>\n",
       "      <th>Text</th>\n",
       "      <th>Likes</th>\n",
       "      <th>Retweets</th>\n",
       "      <th>Location</th>\n",
       "    </tr>\n",
       "  </thead>\n",
       "  <tbody>\n",
       "    <tr>\n",
       "      <th>0</th>\n",
       "      <td>1741971821996707934</td>\n",
       "      <td>2024-01-01 23:57:01+00:00</td>\n",
       "      <td>$BTC Hit 44,150\\n\\nRemember: The ONLY portfoli...</td>\n",
       "      <td>1</td>\n",
       "      <td>0</td>\n",
       "      <td>Plan the Trade, Trade the Plan</td>\n",
       "    </tr>\n",
       "    <tr>\n",
       "      <th>1</th>\n",
       "      <td>1741965702700097931</td>\n",
       "      <td>2024-01-01 23:32:42+00:00</td>\n",
       "      <td>$BTC I gave Profit Target before price got the...</td>\n",
       "      <td>4</td>\n",
       "      <td>1</td>\n",
       "      <td>Plan the Trade, Trade the Plan</td>\n",
       "    </tr>\n",
       "    <tr>\n",
       "      <th>2</th>\n",
       "      <td>1741971250354721272</td>\n",
       "      <td>2024-01-01 23:54:45+00:00</td>\n",
       "      <td>@zerohedge @zerohedge \\n$META  $GOOGL $AMZN $M...</td>\n",
       "      <td>0</td>\n",
       "      <td>0</td>\n",
       "      <td>Borderless</td>\n",
       "    </tr>\n",
       "    <tr>\n",
       "      <th>3</th>\n",
       "      <td>1741971091327709350</td>\n",
       "      <td>2024-01-01 23:54:07+00:00</td>\n",
       "      <td>$MULN will PARABOLIC next week 10000X incoming...</td>\n",
       "      <td>0</td>\n",
       "      <td>0</td>\n",
       "      <td>Milky Way</td>\n",
       "    </tr>\n",
       "    <tr>\n",
       "      <th>4</th>\n",
       "      <td>1741388323216658564</td>\n",
       "      <td>2023-12-31 09:18:24+00:00</td>\n",
       "      <td>@Tony_Denaro Tony, what’s your thoughts on MUL...</td>\n",
       "      <td>2</td>\n",
       "      <td>0</td>\n",
       "      <td></td>\n",
       "    </tr>\n",
       "    <tr>\n",
       "      <th>...</th>\n",
       "      <td>...</td>\n",
       "      <td>...</td>\n",
       "      <td>...</td>\n",
       "      <td>...</td>\n",
       "      <td>...</td>\n",
       "      <td>...</td>\n",
       "    </tr>\n",
       "    <tr>\n",
       "      <th>635</th>\n",
       "      <td>1741611770790428822</td>\n",
       "      <td>2024-01-01 00:06:18+00:00</td>\n",
       "      <td>$SPY Study Material I just put together for yo...</td>\n",
       "      <td>4</td>\n",
       "      <td>1</td>\n",
       "      <td>Plan the Trade, Trade the Plan</td>\n",
       "    </tr>\n",
       "    <tr>\n",
       "      <th>636</th>\n",
       "      <td>1741611370309963847</td>\n",
       "      <td>2024-01-01 00:04:42+00:00</td>\n",
       "      <td>“Most winning trading community, Get next winn...</td>\n",
       "      <td>0</td>\n",
       "      <td>0</td>\n",
       "      <td></td>\n",
       "    </tr>\n",
       "    <tr>\n",
       "      <th>637</th>\n",
       "      <td>1741610940041482422</td>\n",
       "      <td>2024-01-01 00:03:00+00:00</td>\n",
       "      <td>#NewYear 🎄\\nI wish everyone a happy, healthy a...</td>\n",
       "      <td>3</td>\n",
       "      <td>2</td>\n",
       "      <td>San Francisco, CA</td>\n",
       "    </tr>\n",
       "    <tr>\n",
       "      <th>638</th>\n",
       "      <td>1741610893933441225</td>\n",
       "      <td>2024-01-01 00:02:49+00:00</td>\n",
       "      <td>ALWAYS zoom out the chart to see what’s really...</td>\n",
       "      <td>0</td>\n",
       "      <td>0</td>\n",
       "      <td></td>\n",
       "    </tr>\n",
       "    <tr>\n",
       "      <th>639</th>\n",
       "      <td>1741610218797080965</td>\n",
       "      <td>2024-01-01 00:00:08+00:00</td>\n",
       "      <td>Glad I signed up for the 14-day FREE trial! Ba...</td>\n",
       "      <td>1</td>\n",
       "      <td>0</td>\n",
       "      <td></td>\n",
       "    </tr>\n",
       "  </tbody>\n",
       "</table>\n",
       "<p>640 rows × 6 columns</p>\n",
       "</div>"
      ],
      "text/plain": [
       "                Tweet_ID              Time_Created  \\\n",
       "0    1741971821996707934 2024-01-01 23:57:01+00:00   \n",
       "1    1741965702700097931 2024-01-01 23:32:42+00:00   \n",
       "2    1741971250354721272 2024-01-01 23:54:45+00:00   \n",
       "3    1741971091327709350 2024-01-01 23:54:07+00:00   \n",
       "4    1741388323216658564 2023-12-31 09:18:24+00:00   \n",
       "..                   ...                       ...   \n",
       "635  1741611770790428822 2024-01-01 00:06:18+00:00   \n",
       "636  1741611370309963847 2024-01-01 00:04:42+00:00   \n",
       "637  1741610940041482422 2024-01-01 00:03:00+00:00   \n",
       "638  1741610893933441225 2024-01-01 00:02:49+00:00   \n",
       "639  1741610218797080965 2024-01-01 00:00:08+00:00   \n",
       "\n",
       "                                                  Text  Likes  Retweets  \\\n",
       "0    $BTC Hit 44,150\\n\\nRemember: The ONLY portfoli...      1         0   \n",
       "1    $BTC I gave Profit Target before price got the...      4         1   \n",
       "2    @zerohedge @zerohedge \\n$META  $GOOGL $AMZN $M...      0         0   \n",
       "3    $MULN will PARABOLIC next week 10000X incoming...      0         0   \n",
       "4    @Tony_Denaro Tony, what’s your thoughts on MUL...      2         0   \n",
       "..                                                 ...    ...       ...   \n",
       "635  $SPY Study Material I just put together for yo...      4         1   \n",
       "636  “Most winning trading community, Get next winn...      0         0   \n",
       "637  #NewYear 🎄\\nI wish everyone a happy, healthy a...      3         2   \n",
       "638  ALWAYS zoom out the chart to see what’s really...      0         0   \n",
       "639  Glad I signed up for the 14-day FREE trial! Ba...      1         0   \n",
       "\n",
       "                           Location  \n",
       "0    Plan the Trade, Trade the Plan  \n",
       "1    Plan the Trade, Trade the Plan  \n",
       "2                        Borderless  \n",
       "3                         Milky Way  \n",
       "4                                    \n",
       "..                              ...  \n",
       "635  Plan the Trade, Trade the Plan  \n",
       "636                                  \n",
       "637               San Francisco, CA  \n",
       "638                                  \n",
       "639                                  \n",
       "\n",
       "[640 rows x 6 columns]"
      ]
     },
     "execution_count": 44,
     "metadata": {},
     "output_type": "execute_result"
    }
   ],
   "source": [
    "nvidia_tweets = await scrape_tweets(\"NVDA\", \"2024-01-01\", \"2024-01-02\")\n",
    "nvidia_tweets"
   ]
  }
 ],
 "metadata": {
  "kernelspec": {
   "display_name": "Python 3",
   "language": "python",
   "name": "python3"
  },
  "language_info": {
   "codemirror_mode": {
    "name": "ipython",
    "version": 3
   },
   "file_extension": ".py",
   "mimetype": "text/x-python",
   "name": "python",
   "nbconvert_exporter": "python",
   "pygments_lexer": "ipython3",
   "version": "3.11.1"
  }
 },
 "nbformat": 4,
 "nbformat_minor": 2
}

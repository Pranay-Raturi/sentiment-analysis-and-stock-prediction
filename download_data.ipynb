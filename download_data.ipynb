{
 "cells": [
  {
   "cell_type": "markdown",
   "metadata": {},
   "source": [
    "## Download required data from yahoo finance"
   ]
  },
  {
   "cell_type": "markdown",
   "metadata": {},
   "source": [
    "### Import libraries"
   ]
  },
  {
   "cell_type": "code",
   "execution_count": 2,
   "metadata": {},
   "outputs": [],
   "source": [
    "import yfinance as yf\n",
    "import pandas as pd"
   ]
  },
  {
   "cell_type": "code",
   "execution_count": 1,
   "metadata": {},
   "outputs": [],
   "source": [
    "import asyncio\n",
    "from twscrape import API, gather"
   ]
  },
  {
   "cell_type": "markdown",
   "metadata": {},
   "source": [
    "### Download the stock data"
   ]
  },
  {
   "cell_type": "code",
   "execution_count": 2,
   "metadata": {},
   "outputs": [
    {
     "name": "stderr",
     "output_type": "stream",
     "text": [
      "[*********************100%%**********************]  1 of 1 completed\n",
      "[*********************100%%**********************]  1 of 1 completed\n",
      "[*********************100%%**********************]  1 of 1 completed\n",
      "[*********************100%%**********************]  1 of 1 completed\n",
      "[*********************100%%**********************]  1 of 1 completed\n",
      "[*********************100%%**********************]  1 of 1 completed\n",
      "[*********************100%%**********************]  1 of 1 completed\n",
      "[*********************100%%**********************]  1 of 1 completed\n",
      "[*********************100%%**********************]  1 of 1 completed\n",
      "[*********************100%%**********************]  1 of 1 completed\n",
      "[*********************100%%**********************]  1 of 1 completed\n",
      "[*********************100%%**********************]  1 of 1 completed\n",
      "[*********************100%%**********************]  1 of 1 completed\n",
      "[*********************100%%**********************]  1 of 1 completed\n",
      "[*********************100%%**********************]  1 of 1 completed"
     ]
    },
    {
     "name": "stdout",
     "output_type": "stream",
     "text": [
      "Data added to stock_data folder\n"
     ]
    },
    {
     "name": "stderr",
     "output_type": "stream",
     "text": [
      "\n"
     ]
    }
   ],
   "source": [
    "# tickers is the list of stock tickers of 15 companies listed on the NYSE\n",
    "tickers = [\"AAPL\", \"AMZN\", \"META\", \"MSFT\", \"GOOG\", \"NVDA\", \"NFLX\", \"DIS\", \"TSLA\", \"LLY\", \"JNJ\", \"BA\", \"JPM\", \"V\", \"MA\"]\n",
    "start_date = \"2018-01-01\"\n",
    "end_date = \"2022-12-31\"\n",
    "for ticker in tickers:\n",
    "    # download the data from Yahoo Finance\n",
    "    data = yf.download(ticker, start=start_date, end=end_date) \n",
    "    # convert the downloaded data into csv files\n",
    "    data.to_csv(\"stock_data/{}_{}-{}\".format(ticker, start_date[:4], end_date[:4]))\n",
    "print(\"Data added to stock_data folder\")"
   ]
  },
  {
   "cell_type": "markdown",
   "metadata": {},
   "source": [
    "## twitter data"
   ]
  },
  {
   "cell_type": "code",
   "execution_count": 14,
   "metadata": {},
   "outputs": [
    {
     "name": "stdout",
     "output_type": "stream",
     "text": [
      "947977770201698304 JD_Gaffle 2018-01-01 23:48:07+00:00 RT @businessinsider: There is a 40% chance Apple will acquire Netflix, according to Citi $AAPL $NFLX https://t.co/zX6KujT2DG https://t.co/D7iTVlwKXu\n",
      "947974166262833152 DCR1724 2018-01-01 23:33:48+00:00 Join @RobinhoodApp and we'll both get a share of stock like $AAPL, $F, or $S for free. Make sure to use my link.\n",
      "\n",
      "https://t.co/Mq9Gwf3UzU #RobinHood #freeshares #freemoney\n",
      "947974112537956353 cryptosbuy 2018-01-01 23:33:35+00:00 $Apple   $AAPL https://t.co/NXJROai5ID TV_TradingIdeas\n",
      "947973132446502913 Drugdoctor2014 2018-01-01 23:29:41+00:00 $LVVV.019 -California Marijuana Grower - Still less than .02 - Huge crowds for REC sales today! $DCTH $ELED $FRZT $JBZY $NAVB\n",
      "$AMZN $TSLA $WMT $TGT $NVDA $SPY $GLD $EBAY $AAPL $FB $TWTR $GS $S $GOOG \n",
      "$DIS  $IBM $MSFT $BIDU $VZ https://t.co/Ml10GmdES0\n",
      "947972955199250432 snapsssss 2018-01-01 23:28:59+00:00 $Apple   $AAPL https://t.co/DG9xrxBsnf\n",
      "947972955132198913 Trader_Green 2018-01-01 23:28:59+00:00 $Apple   - $AAPL chart https://t.co/rLhBirFeqi\n",
      "947972762429255682 BitcoinLootbox 2018-01-01 23:28:13+00:00 Are You Bullish Or Bearish On #Apple? Start #Trading $AAPL With #Bitcoin! \n",
      "\n",
      "https://t.co/40Lyx9bLNs\n",
      "\n",
      "✅ Fast &amp; Secure Exchange!\n",
      "✅ Up To 200:1 Leverage!\n",
      "✅ Get Paid #Dividends For Holding Your Position!\n",
      "✅ Earn Passive Income With Auto Copy Trading!\n",
      "\n",
      "#BTC #Crypto #Cryptocurrency https://t.co/vllbshkwMF\n",
      "947971458013319169 hogstatjur 2018-01-01 23:23:02+00:00 $NFLX an actual logical move for $AAPL hope they leave it as is and don't fuk up the production quality. Making movies is a completely different animal than regurgitation of phone hardware.. https://t.co/sqjgiAwYYY\n",
      "947969696158101504 TopTickrs 2018-01-01 23:16:02+00:00 FIND YOUR EDGE! EXPLORE STRATEGIES IN OUR GOAL ORIENTED CHAT ROOM AT https://t.co/35LuLR0k4f $AAPL $MU $CLSN\n",
      "947969465324658690 ChartMill 2018-01-01 23:15:07+00:00 $AAPL has a Profit Margin of 21.09%. This is amongst the best returns in the industry. The industry average is ... https://t.co/CIZvZGvkWN https://t.co/2OrO2gZXmb\n",
      "947968187668320256 TopTickrs 2018-01-01 23:10:02+00:00 Start investing @RobinhoodApp and get a stock like $AAPL, $MSFT, or $BABA for FREE! Make sure to follow this link! #stocks https://t.co/cgG4ysHnjp\n",
      "947964286193713152 bcastroll 2018-01-01 22:54:32+00:00 Join @RobinhoodApp and we'll both get a share of stock like $AAPL, $F, or $S for free. Make sure to use my link.\n",
      "\n",
      "https://t.co/z0oTQGTLVB\n",
      "947962830191337472 allstarcharts 2018-01-01 22:48:45+00:00 What this list means to me https://t.co/6WQfL58V9t $JPM $102, $GS $250, $AXP $95, $TRV $129 $CSCO $37, $AAPL $162, $MSFT $83. $MCD 163, $HD 185, $CVX $119, $XOM $80, $BA $251, $CAT $145, $MMM $229, $UTX $124, $KO $44.50, $DWDP $67, $WMT 91, $JNJ $136, $CHRW, $CSX $48, $EXPD $57\n",
      "947961104285790208 BullishEnt 2018-01-01 22:41:54+00:00 Join @RobinhoodApp and we'll both get a share of stock like $AAPL, $F, or $S for free. Make sure to use my link.\n",
      "\n",
      "https://t.co/wrGk5lPfl7\n",
      "947960393611149312 MacHashNews 2018-01-01 22:39:04+00:00 Apple's Executive Cash Bonus Plan https://t.co/NpqJRebtyR #Forbes $AAPL\n",
      "947960318684168199 8legs2fangs 2018-01-01 22:38:46+00:00 A really easy way to start investing! Join @RobinhoodApp and we'll both get a share of stock like $AAPL, $F, or $S for free. Make sure to use my link.\n",
      "\n",
      "https://t.co/xwiclrzdqM\n",
      "947959098187886592 stockmktgenius 2018-01-01 22:33:55+00:00 Number of leading stocks today: 0 $SPY $QQQ $FB $GOOG $AMZN $GOOG $AAPL #DailyStkLeaderCount\n",
      "947958456069304320 ClayTrader25 2018-01-01 22:31:22+00:00 Not from today obviously, but from last month. I'm hoping to do this once again on a consistent basis in 2018 - https://t.co/R6UunSCJOR $AAPL $SPY $AMD $NVDA #bitcoin #Coinbase #Ethereum #Ripple #Litecoin #cryptocurrency\n",
      "947958361982631937 Benzinga 2018-01-01 22:31:00+00:00 Tech Expert Breaks Down The FAANG's 2018 Outlook https://t.co/zNZatAzbX8 $AAPL $AMZN $FB  $NFLX $GOOG\n"
     ]
    }
   ],
   "source": [
    "import asyncio\n",
    "from twscrape import API, gather\n",
    "from twscrape.logger import set_log_level\n",
    "\n",
    "async def main():\n",
    "    api = API()\n",
    "    \n",
    "    q = \"$AAPL since:2018-01-01 until:2018-01-02 lang:en\"\n",
    "    async for tweet in api.search(q, limit=5):\n",
    "        print(tweet.id, tweet.user.username, tweet.date, tweet.rawContent)\n",
    "\n",
    "\n",
    "if __name__ == \"__main__\":\n",
    "    await main()"
   ]
  },
  {
   "cell_type": "code",
   "execution_count": 11,
   "metadata": {},
   "outputs": [
    {
     "name": "stdout",
     "output_type": "stream",
     "text": [
      "<class 'twscrape.models.Tweet'>\n"
     ]
    }
   ],
   "source": [
    "api = API()\n",
    "q = \"$NVDA since:2018-01-01 until:2018-01-02 lang:en\"\n",
    "async for tweet in api.search(q):\n",
    "    print(type(tweet))\n",
    "    trial_tweet = tweet.dict()\n",
    "    trial_tweet_json = tweet.json()\n",
    "\n",
    "    break\n",
    "\n"
   ]
  },
  {
   "cell_type": "code",
   "execution_count": 13,
   "metadata": {},
   "outputs": [
    {
     "name": "stdout",
     "output_type": "stream",
     "text": [
      "dict_keys(['id', 'id_str', 'url', 'date', 'user', 'lang', 'rawContent', 'replyCount', 'retweetCount', 'likeCount', 'quoteCount', 'conversationId', 'conversationIdStr', 'hashtags', 'cashtags', 'mentionedUsers', 'links', 'viewCount', 'retweetedTweet', 'quotedTweet', 'place', 'coordinates', 'inReplyToTweetId', 'inReplyToTweetIdStr', 'inReplyToUser', 'source', 'sourceUrl', 'sourceLabel', 'media', '_type'])\n",
      "2018-01-01 23:50:02+00:00\n"
     ]
    }
   ],
   "source": [
    "print(trial_tweet.keys())\n",
    "print(trial_tweet['date'])"
   ]
  },
  {
   "cell_type": "code",
   "execution_count": null,
   "metadata": {},
   "outputs": [],
   "source": []
  }
 ],
 "metadata": {
  "kernelspec": {
   "display_name": "Python 3",
   "language": "python",
   "name": "python3"
  },
  "language_info": {
   "codemirror_mode": {
    "name": "ipython",
    "version": 3
   },
   "file_extension": ".py",
   "mimetype": "text/x-python",
   "name": "python",
   "nbconvert_exporter": "python",
   "pygments_lexer": "ipython3",
   "version": "3.11.1"
  }
 },
 "nbformat": 4,
 "nbformat_minor": 2
}
